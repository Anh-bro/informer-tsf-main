{
 "cells": [
  {
   "cell_type": "code",
   "execution_count": 6,
   "id": "e9456918",
   "metadata": {
    "ExecuteTime": {
     "end_time": "2023-12-14T05:08:49.432058100Z",
     "start_time": "2023-12-14T05:08:48.558394100Z"
    }
   },
   "outputs": [
    {
     "name": "stdout",
     "output_type": "stream",
     "text": [
      "Using matplotlib backend: Qt5Agg\n"
     ]
    }
   ],
   "source": [
    "import os\n",
    "os.environ[\"KMP_DUPLICATE_LIB_OK\"]=\"TRUE\"\n",
    "from utils.tools import dotdict\n",
    "import matplotlib.pyplot as plt\n",
    "from exp.exp_informer import Exp_Informer\n",
    "import torch\n",
    "import numpy as np\n",
    "%matplotlib \n",
    "plt.rcParams['xtick.direction'] = 'in'\n",
    "plt.rcParams['ytick.direction'] = 'in'\n"
   ]
  },
  {
   "cell_type": "code",
   "execution_count": 7,
   "id": "5d4467c8",
   "metadata": {
    "ExecuteTime": {
     "end_time": "2023-12-14T05:08:52.945079800Z",
     "start_time": "2023-12-14T05:08:52.922134200Z"
    }
   },
   "outputs": [],
   "source": [
    "args = dotdict()\n",
    " \n",
    " \n",
    "args.model = 'informer' # model of experiment, options: [informer, informerstack, informerlight(TBD)]\n",
    "args.data = 'custom' # data\n",
    "args.root_path = './data/CustomDataSet/' # root path of data file\n",
    "args.data_path = 'dust.csv' # data file\n",
    "args.features = 'S' # forecasting task, options:[M, S, MS]; M:multivariate predict multivariate, S:univariate predict univariate, MS:multivariate predict univariate\n",
    "args.target = 'value' # target feature in S or MS task\n",
    "args.freq = 't' # freq for time features encoding, options:[s:secondly, t:minutely, h:hourly, d:daily, b:business days, w:weekly, m:monthly], you can also use more detailed freq like 15min or 3h\n",
    "args.checkpoints = './checkpoints' # location of model checkpoints\n",
    " \n",
    " # 96 48 48\n",
    "args.seq_len = 64 # input sequence length of Informer encoder\n",
    "args.label_len = 32 # start token length of Informer decoder\n",
    "args.pred_len = 32 # prediction sequence length\n",
    "# Informer decoder input: concat[start token series(label_len), zero padding series(pred_len)]\n",
    " \n",
    "# 4 4 1\n",
    "#1 1 1\n",
    "args.enc_in = 1 # encoder input size\n",
    "args.dec_in = 1 # decoder input size\n",
    "args.c_out = 1 # output size\n",
    "args.factor = 5 # probsparse attn factor\n",
    "args.padding = 0  # padding type\n",
    "args.d_model = 256 # dimension of model\n",
    "args.n_heads = 4 # num of heads\n",
    "args.e_layers = 2 # num of encoder layers\n",
    "args.d_layers = 1 # num of decoder layers\n",
    "args.d_ff = 256 # dimension of fcn in model\n",
    "args.dropout = 0.05 # dropout\n",
    "args.attn = 'prob' # attention used in encoder, options:[prob, full]\n",
    "args.embed = 'timeF' # time features encoding, options:[timeF, fixed, learned]\n",
    "args.activation = 'gelu' # activation\n",
    "args.distil = True # whether to use distilling in encoder\n",
    "args.output_attention = False # whether to output attention in ecoder\n",
    " \n",
    " \n",
    "args.batch_size = 32\n",
    "args.learning_rate = 0.00001\n",
    "args.loss = 'rmse'\n",
    "args.lradj = 'type1'\n",
    "args.use_amp = False # whether to use automatic mixed precision training\n",
    "args.inverse=False\n",
    " \n",
    " \n",
    "args.num_workers = 0\n",
    "args.train_epochs = 10000\n",
    "args.patience = 3\n",
    "args.des = 'exp'\n",
    " \n",
    " \n",
    "# args.use_gpu = True if torch.cuda.is_available() else False\n",
    "args.use_gpu = True\n",
    "args.gpu = 0\n",
    " \n",
    " \n",
    "args.use_multi_gpu = False\n",
    "args.devices = '0,1,2,3'\n",
    "\n",
    "args.detail_freq = args.freq\n",
    "args.freq = args.freq[-1:]"
   ]
  },
  {
   "cell_type": "code",
   "execution_count": 8,
   "id": "23f41c4e",
   "metadata": {
    "scrolled": true,
    "ExecuteTime": {
     "end_time": "2023-12-14T05:09:03.631478500Z",
     "start_time": "2023-12-14T05:08:55.791865200Z"
    }
   },
   "outputs": [
    {
     "name": "stdout",
     "output_type": "stream",
     "text": [
      "Use GPU: cuda:0\n",
      "{'model': 'informer', 'data': 'custom', 'root_path': './data/CustomDataSet/', 'data_path': 'dust.csv', 'features': 'S', 'target': 'value', 'freq': 't', 'checkpoints': './checkpoints', 'seq_len': 64, 'label_len': 32, 'pred_len': 32, 'enc_in': 1, 'dec_in': 1, 'c_out': 1, 'factor': 5, 'padding': 0, 'd_model': 256, 'n_heads': 4, 'e_layers': 2, 'd_layers': 1, 'd_ff': 256, 'dropout': 0.05, 'attn': 'prob', 'embed': 'timeF', 'activation': 'gelu', 'distil': True, 'output_attention': False, 'batch_size': 32, 'learning_rate': 1e-05, 'loss': 'rmse', 'lradj': 'type1', 'use_amp': False, 'inverse': False, 'num_workers': 0, 'train_epochs': 10000, 'patience': 3, 'des': 'exp', 'use_gpu': True, 'gpu': 0, 'use_multi_gpu': False, 'devices': '0,1,2,3', 'detail_freq': 't'}\n",
      "pred 1\n"
     ]
    }
   ],
   "source": [
    "Exp = Exp_Informer\n",
    "\n",
    "# setting record of experiments\n",
    "setting = '{}_{}_{}_ft{}_sl{}_ll{}_pl{}_dm{}_nh{}_el{}_dl{}_df{}_at{}_fc{}_eb{}_dt{}_{}'.format(args.data_path.split('.')[0], args.model, args.data, args.features,\n",
    "            args.seq_len, args.label_len, args.pred_len,\n",
    "            args.d_model, args.n_heads, args.e_layers, args.d_layers, args.d_ff, args.attn, args.factor, args.embed, args.distil, args.des)\n",
    " \n",
    " \n",
    "# set experiments\n",
    "exp = Exp(args)\n",
    "print(args)\n",
    " \n",
    "# \n",
    "# # train\n",
    "# print('>>>>>>>start training : {}>>>>>>>>>>>>>>>>>>>>>>>>>>'.format(setting))\n",
    "# exp.train(setting)\n",
    "# \n",
    "# \n",
    "# # test\n",
    "# print('>>>>>>>testing : {}<<<<<<<<<<<<<<<<<<<<<<<<<<<<<<<<<'.format(setting))\n",
    "# exp.test(setting)\n",
    "\n",
    "# \n",
    "exp.predict(setting, True)"
   ]
  },
  {
   "cell_type": "code",
   "execution_count": null,
   "outputs": [],
   "source": [],
   "metadata": {
    "collapsed": false
   },
   "id": "4890dfbfbc7f3bca"
  },
  {
   "cell_type": "code",
   "execution_count": 11,
   "id": "f8c0f3c0",
   "metadata": {
    "ExecuteTime": {
     "end_time": "2023-12-14T02:29:40.360429Z",
     "start_time": "2023-12-14T02:29:40.241236700Z"
    }
   },
   "outputs": [
    {
     "name": "stdout",
     "output_type": "stream",
     "text": [
      "pred 1\n"
     ]
    }
   ],
   "source": [
    "exp.args.inverse=True\n",
    "exp.predict(setting,True)"
   ]
  },
  {
   "cell_type": "code",
   "execution_count": 12,
   "outputs": [],
   "source": [
    "#预测的结果\n",
    "prediction = np.load('./results/' + setting + '/real_prediction.npy')\n",
    "plt.figure()\n",
    "plt.plot(prediction[0, :, -1])\n",
    "plt.show()"
   ],
   "metadata": {
    "collapsed": false,
    "ExecuteTime": {
     "end_time": "2023-12-14T02:29:43.026954600Z",
     "start_time": "2023-12-14T02:29:42.934203400Z"
    }
   },
   "id": "66cba21f29542358"
  },
  {
   "cell_type": "code",
   "execution_count": 13,
   "outputs": [
    {
     "data": {
      "text/plain": "48"
     },
     "execution_count": 13,
     "metadata": {},
     "output_type": "execute_result"
    }
   ],
   "source": [
    "prediction.size"
   ],
   "metadata": {
    "collapsed": false,
    "ExecuteTime": {
     "end_time": "2023-12-07T03:06:51.462247100Z",
     "start_time": "2023-12-07T03:06:51.430346600Z"
    }
   },
   "id": "9a90d264c4884d47"
  },
  {
   "cell_type": "code",
   "execution_count": 42,
   "outputs": [
    {
     "data": {
      "text/plain": "array([0.00167099, 0.00172254, 0.001768  , 0.00181342, 0.00185989,\n       0.00202564, 0.00206059, 0.00209383, 0.00212466, 0.00215241,\n       0.00217629, 0.00219561, 0.00221039, 0.00222164, 0.00223102,\n       0.00224017, 0.00225007, 0.00226088, 0.00227203, 0.00228255,\n       0.00229147, 0.002299  , 0.00230365, 0.00230625, 0.0023079 ,\n       0.0023098 , 0.00231277, 0.0023169 , 0.00232153, 0.00232579,\n       0.00230211, 0.0023039 , 0.00230563, 0.00230768, 0.00230993,\n       0.00231206, 0.00231391, 0.00231573, 0.00231805, 0.00232125,\n       0.00232517, 0.00232919, 0.00233257, 0.00233496, 0.00233654,\n       0.00233788, 0.00233956, 0.00232753], dtype=float32)"
     },
     "execution_count": 42,
     "metadata": {},
     "output_type": "execute_result"
    }
   ],
   "source": [
    "prediction[0,:,-1]"
   ],
   "metadata": {
    "collapsed": false,
    "ExecuteTime": {
     "end_time": "2023-10-30T03:12:59.618484900Z",
     "start_time": "2023-10-30T03:12:59.599289400Z"
    }
   },
   "id": "74136c79545cf50c"
  },
  {
   "cell_type": "code",
   "execution_count": 17,
   "outputs": [],
   "source": [
    "setting='informer_custom_ftMS_sl96_ll48_pl48_dm256_nh4_el2_dl1_df256_atprob_fc5_ebtimeF_dtTrue_exp'"
   ],
   "metadata": {
    "collapsed": false,
    "ExecuteTime": {
     "end_time": "2023-11-14T07:14:49.894750500Z",
     "start_time": "2023-11-14T07:14:49.864874400Z"
    }
   },
   "id": "4564be09479a04c5"
  },
  {
   "cell_type": "code",
   "execution_count": 14,
   "outputs": [],
   "source": [
    "test_loss_plot_data = np.load('./results/' +setting + '/test_loss_every_epoch.npy')\n",
    "train_loss_plot_data = np.load('./results/' + setting + '/train_loss_every_epoch.npy')\n",
    "vali_loss_plot_data = np.load('./results/' + setting + '/vali_loss_every_epoch.npy')\n",
    "# test_loss_every_epoch.shape\n",
    "\n",
    "plt.figure()\n",
    "fig, ax = plt.subplots()\n",
    "ax.spines['right'].set_visible(False)\n",
    "ax.spines['top'].set_visible(False)\n",
    "\n",
    "plt.xlabel('Epoch')\n",
    "plt.ylabel('RMSE')\n",
    "\n",
    "plt.plot(test_loss_plot_data[:], label='test')\n",
    "plt.plot(train_loss_plot_data[:], label='training')\n",
    "plt.plot(vali_loss_plot_data[:], label='validation')\n",
    "plt.legend(frameon=False)\n",
    "\n",
    "plt.show()"
   ],
   "metadata": {
    "collapsed": false,
    "ExecuteTime": {
     "end_time": "2023-12-07T03:07:27.100473600Z",
     "start_time": "2023-12-07T03:07:26.982949700Z"
    }
   },
   "id": "c624860e6ad3cb9f"
  },
  {
   "cell_type": "code",
   "execution_count": 78,
   "outputs": [
    {
     "data": {
      "text/plain": "array([0.21206684, 0.1760576 , 0.15392497, 0.16048865, 0.14486709,\n       0.13524537, 0.13098001, 0.13288058, 0.12932946, 0.13219103],\n      dtype=float32)"
     },
     "execution_count": 78,
     "metadata": {},
     "output_type": "execute_result"
    }
   ],
   "source": [
    "test_loss_plot_data"
   ],
   "metadata": {
    "collapsed": false,
    "ExecuteTime": {
     "end_time": "2023-10-30T04:51:24.673292900Z",
     "start_time": "2023-10-30T04:51:24.655251400Z"
    }
   },
   "id": "a8be21882889ca63"
  },
  {
   "cell_type": "code",
   "execution_count": 3,
   "outputs": [
    {
     "data": {
      "text/plain": "array([0.15907846, 0.08363054, 0.06544833, 0.05128703, 0.04483822,\n       0.03735077])"
     },
     "execution_count": 3,
     "metadata": {},
     "output_type": "execute_result"
    }
   ],
   "source": [
    "t = np.load('./results/' + \"informer_custom_ftMS_sl96_ll48_pl48_dm256_nh4_el2_dl1_df256_atprob_fc5_ebtimeF_dtTrue_exp\" + '/train_loss_every_epoch.npy')\n",
    "t"
   ],
   "metadata": {
    "collapsed": false,
    "ExecuteTime": {
     "end_time": "2023-11-14T00:55:48.879589700Z",
     "start_time": "2023-11-14T00:55:48.831720600Z"
    }
   },
   "id": "2d5f1f8880fa8978"
  },
  {
   "cell_type": "code",
   "execution_count": 15,
   "id": "566eefb1",
   "metadata": {
    "scrolled": true,
    "ExecuteTime": {
     "end_time": "2023-12-07T03:07:51.335790300Z",
     "start_time": "2023-12-07T03:07:51.262953Z"
    }
   },
   "outputs": [
    {
     "data": {
      "text/plain": "(1952, 48, 1)"
     },
     "execution_count": 15,
     "metadata": {},
     "output_type": "execute_result"
    }
   ],
   "source": [
    "#测试集上 真值和预测值的比较\n",
    "preds = np.load('./results/' + setting + '/pred.npy')\n",
    "trues = np.load('./results/' + setting + '/true.npy')\n",
    "\n",
    "\n",
    "plt.figure()\n",
    "plt.plot(trues[140, :, -1], label='GroundTruth')\n",
    "plt.plot(preds[140, :, -1], label='Prediction')\n",
    "plt.legend()\n",
    "plt.show()\n",
    "trues.shape"
   ]
  },
  {
   "cell_type": "code",
   "execution_count": 8,
   "id": "072d0c5f",
   "metadata": {
    "scrolled": true,
    "ExecuteTime": {
     "end_time": "2023-11-14T07:27:24.491879400Z",
     "start_time": "2023-11-14T07:27:24.441159800Z"
    }
   },
   "outputs": [],
   "source": [
    "plt.figure()\n",
    "plt.plot(trues[:,0,-1].reshape(-1), label='GroundTruth')\n",
    "plt.plot(preds[:,0,-1].reshape(-1), label='Prediction')\n",
    "plt.legend()\n",
    "plt.show()"
   ]
  },
  {
   "cell_type": "code",
   "execution_count": 13,
   "outputs": [],
   "source": [
    "preds_MS = np.load('./results/' + \"informer_custom_ftMS_sl96_ll48_pl48_dm256_nh4_el2_dl1_df256_atprob_fc5_ebtimeF_dtTrue_exp\" + '/pred.npy')\n",
    "\n",
    "plt.figure()\n",
    "fig, ax = plt.subplots()\n",
    "ax.spines['right'].set_visible(False)\n",
    "ax.spines['top'].set_visible(False)\n",
    "\n",
    "plt.plot(trues[8000:,0,-1].reshape(-1), label='GroundTruth')\n",
    "plt.plot(preds[8000:,0,-1].reshape(-1), label='Prediction')\n",
    "plt.plot(preds_MS[8000:,0,-1].reshape(-1), label='Prediction_MS')\n",
    "\n",
    "\n",
    "plt.yticks(size=16)\n",
    "plt.xticks(size=16)\n",
    "plt.xlabel('number',fontdict={'size':16})\n",
    "plt.ylabel('data',fontdict={'size':16})\n",
    "plt.legend(frameon=False)\n",
    "plt.show()"
   ],
   "metadata": {
    "collapsed": false,
    "ExecuteTime": {
     "end_time": "2023-11-14T07:57:39.841663200Z",
     "start_time": "2023-11-14T07:57:39.735013700Z"
    }
   },
   "id": "40ba845a40a1cf15"
  }
 ],
 "metadata": {
  "kernelspec": {
   "display_name": "Python 3",
   "language": "python",
   "name": "python3"
  },
  "language_info": {
   "codemirror_mode": {
    "name": "ipython",
    "version": 3
   },
   "file_extension": ".py",
   "mimetype": "text/x-python",
   "name": "python",
   "nbconvert_exporter": "python",
   "pygments_lexer": "ipython3",
   "version": "3.6.13"
  }
 },
 "nbformat": 4,
 "nbformat_minor": 5
}
